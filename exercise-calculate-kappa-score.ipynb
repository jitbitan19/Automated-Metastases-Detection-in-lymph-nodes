{
 "cells": [
  {
   "cell_type": "markdown",
   "metadata": {
    "collapsed": true
   },
   "source": [
    "# Calculation of the Kappa Score"
   ]
  },
  {
   "cell_type": "markdown",
   "metadata": {},
   "source": [
    "## Table of Contents\n",
    "* [Introduction](#Introduction)\n",
    "* [Requirements](#Requirements) \n",
    "  * [Modules](#Python-Modules)\n",
    "* [Teaching Content](#Teaching-Content)\n",
    " * [Confusion Matrix](#Confusion-Matrix)\n",
    " * [Kappa Score](#Kappa-Score)\n",
    " * [Weighted Kappa Score](#Weighted-Kappa-Score)\n",
    "* [Exercises](#Exercises)\n",
    " * [Determine Patient Labels](#Determine-Patient-Labels)\n",
    " * [Run the Script](#Run-the-Script)\n",
    "* [Summary and Outlook](#Summary-and-Outlook)"
   ]
  },
  {
   "cell_type": "markdown",
   "metadata": {},
   "source": [
    "## Introduction\n",
    "\n",
    "In this final notebook you will first determine the labels for the patients of the CAMELYON17 training set based on your predictions of the individual WSIs (slides) per patient.\n",
    "\n",
    "Afterwards use the `evaluation.py` script (provided by the challenge) to calculate the kappa score.\n",
    "\n"
   ]
  },
  {
   "cell_type": "markdown",
   "metadata": {},
   "source": [
    "## Requirements\n",
    "\n",
    "### Python-Modules"
   ]
  },
  {
   "cell_type": "code",
   "execution_count": null,
   "metadata": {
    "scrolled": true
   },
   "outputs": [],
   "source": [
    "import numpy as np\n",
    "\n",
    "### Edit if needed"
   ]
  },
  {
   "cell_type": "markdown",
   "metadata": {},
   "source": [
    "## Teaching Content\n",
    "\n",
    "Although the `evaluation.py` script does all the calculations for you, as long the patient labels are assigned, it is always good to know how the metrics you are using work."
   ]
  },
  {
   "cell_type": "markdown",
   "metadata": {},
   "source": [
    "### Confusion Matrix\n",
    "\n",
    "To determine the kappa score we first need to determine the confusion matrix. A confusion matrix is often used\n",
    "in binary classification tasks where we only have 2 classes (positive, negative), but it can also be constructed when we have more classes. The green elemtents mark the correct classifications. In some cases the classes can be more similar to one another (e.g. _C1_ might less different to _C2_ than to _C3_), which here is indicated by the intensity of the red color. \n",
    "\n",
    "![internet connection needed](https://gitlab.com/deep.TEACHING/educational-materials/raw/master/media/klaus/medical-image-classification/conf_matrix.png)"
   ]
  },
  {
   "cell_type": "markdown",
   "metadata": {},
   "source": [
    "### Kappa Score\n",
    "\n",
    "The kappa score takes into consideration that some correct predictions were made by _'accident'_:\n",
    "\n",
    "\\begin{equation}\n",
    "\t\\kappa = \\frac{p_0 - p_e}{1 - p_e},\n",
    "\\end{equation}\n",
    "with $p_0$ being the accuracy and $p_e$ the proportion of _'accidentially'_ correct classified examples. \n",
    "\n",
    "For the binary classification task $p_e$ is calculated with:\n",
    "\n",
    "\\begin{equation}\n",
    "\tp_e = \\frac{(TP + FN) \\cdot (TP + FP)}{b^2} + \\frac{(FN + TN) \\cdot (FP + TN)}{b^2}\n",
    "\\end{equation}\n",
    "with $b$ the total number of examples.\n",
    "\n",
    "And in general for \\(n\\) different classes:\n",
    "\n",
    "\\begin{equation}\n",
    "\tp_e = \\frac{1}{b^2} \\cdot \\sum_{i=1}^{n} h_{i+} \\cdot h_{+i} \n",
    "\\end{equation}\n",
    "\n",
    "with the sum of row $i$: $h_{i+}$ and the sum of column $i$: $h_{+i}$"
   ]
  },
  {
   "cell_type": "markdown",
   "metadata": {},
   "source": [
    "### Weighted Kappa Score\n",
    "\n",
    "If some misclassificaitons are worse then others (_C1_ classified as _C3_ is worse than classified as _C2_), it is possible to take weights into calculation. In this case we assign weights $w_{11}$ to $w_{nn}$ to the confusion matrix. For the weighted kappa score we then have:\n",
    "\n",
    "$$\t\\kappa_w = 1 - \\frac{\\sum_i^n \\sum_j^n w_{ij} \\cdot h_{ij}}{\\sum_i^n \\sum_j^n w_{ij} \\cdot \\frac{h_{i+} \\cdot h_{+j}}{b}}\n",
    "$$\n",
    "\n",
    "Note that the CAMELYON17 challenge uses the weighted kappa score for scoring, since classifying a patient with the true label _pN0_ (no metastasis at all) as _pN0(i+) (max. isolated tumor cells found) is less worse then classifying him as _pN2_ (_macro metastasis_ found in four or more slides)."
   ]
  },
  {
   "cell_type": "markdown",
   "metadata": {},
   "source": [
    "## Exercises\n",
    "\n",
    "### Determine Patient Labels\n",
    "\n",
    "Have a look at the [CAMELYON17 evaluation page](https://camelyon17.grand-challenge.org/Evaluation/). Implement the code to edit your `c17_train_predictions.csv`, so it also includes the patient labels (_pN0, pN0(i+), pN1mi, pN1_ and _pN2_)."
   ]
  },
  {
   "cell_type": "markdown",
   "metadata": {},
   "source": [
    "### Run the Script\n",
    "\n",
    "Finally run the `evaluation.py` script provided in the _CAMELYON17/testing_ folder to calculate the kappa score."
   ]
  },
  {
   "cell_type": "markdown",
   "metadata": {},
   "source": [
    "## Summary and Outlook\n",
    "\n",
    "Congratulations. You successfully worked through the whole process to cover all necessary steps to take part at the CAMELYON challenge. Of course this was only a minimal example covering the most essential steps. To achieve better results follow the hints at the end of every notebook.\n",
    "\n",
    "If you want, you can compare your kappa score with the official submission on the [CAMELYON challenge results page](https://camelyon17.grand-challenge.org/evaluation/results/). However, note that your results are based on the training set, whereas the official submissions are based on the CAMEYLON17 test set. If you apply your classifier on the test set, expect like 5% lower kappa score."
   ]
  },
  {
   "cell_type": "markdown",
   "metadata": {
    "slideshow": {
     "slide_type": "-"
    }
   },
   "source": [
    "## Licenses\n",
    "\n",
    "### Notebook License (CC-BY-SA 4.0)\n",
    "\n",
    "*The following license applies to the complete notebook, including code cells. It does however not apply to any referenced external media (e.g., images).*\n",
    "\n",
    "exercise-calculate-kappa-score<br/>\n",
    "by Klaus Strohmenger<br/>\n",
    "is licensed under a [Creative Commons Attribution-ShareAlike 4.0 International License](http://creativecommons.org/licenses/by-sa/4.0/).<br/>\n",
    "Based on a work at https://gitlab.com/deep.TEACHING.\n",
    "\n",
    "\n",
    "### Code License (MIT)\n",
    "\n",
    "*The following license only applies to code cells of the notebook.*\n",
    "\n",
    "Copyright 2018 Klaus Strohmenger\n",
    "\n",
    "Permission is hereby granted, free of charge, to any person obtaining a copy of this software and associated documentation files (the \"Software\"), to deal in the Software without restriction, including without limitation the rights to use, copy, modify, merge, publish, distribute, sublicense, and/or sell copies of the Software, and to permit persons to whom the Software is furnished to do so, subject to the following conditions:\n",
    "\n",
    "The above copyright notice and this permission notice shall be included in all copies or substantial portions of the Software.\n",
    "\n",
    "THE SOFTWARE IS PROVIDED \"AS IS\", WITHOUT WARRANTY OF ANY KIND, EXPRESS OR IMPLIED, INCLUDING BUT NOT LIMITED TO THE WARRANTIES OF MERCHANTABILITY, FITNESS FOR A PARTICULAR PURPOSE AND NONINFRINGEMENT. IN NO EVENT SHALL THE AUTHORS OR COPYRIGHT HOLDERS BE LIABLE FOR ANY CLAIM, DAMAGES OR OTHER LIABILITY, WHETHER IN AN ACTION OF CONTRACT, TORT OR OTHERWISE, ARISING FROM, OUT OF OR IN CONNECTION WITH THE SOFTWARE OR THE USE OR OTHER DEALINGS IN THE SOFTWARE."
   ]
  },
  {
   "cell_type": "code",
   "execution_count": null,
   "metadata": {},
   "outputs": [],
   "source": []
  }
 ],
 "metadata": {
  "celltoolbar": "Slideshow",
  "kernelspec": {
   "display_name": "deep_teaching_kernel",
   "language": "python",
   "name": "deep_teaching_kernel"
  },
  "language_info": {
   "codemirror_mode": {
    "name": "ipython",
    "version": 3
   },
   "file_extension": ".py",
   "mimetype": "text/x-python",
   "name": "python",
   "nbconvert_exporter": "python",
   "pygments_lexer": "ipython3",
   "version": "3.6.5"
  }
 },
 "nbformat": 4,
 "nbformat_minor": 2
}
